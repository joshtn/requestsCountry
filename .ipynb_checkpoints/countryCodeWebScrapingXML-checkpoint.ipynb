{
 "cells": [
  {
   "cell_type": "code",
   "execution_count": 2,
   "metadata": {},
   "outputs": [],
   "source": [
    "import requests\n",
    "import xml.etree.ElementTree as ET"
   ]
  },
  {
   "cell_type": "code",
   "execution_count": 10,
   "metadata": {},
   "outputs": [],
   "source": [
    "url = 'http://api.worldbank.org/countries'\n",
    "\n",
    "response = requests.get(url)\n",
    "\n",
    "if response.ok == True:\n",
    "    country_data = response.text\n",
    "else: \n",
    "    print(\"response error\")\n",
    "\n",
    "countries = ET.fromstring(country_data)\n",
    "#print(countries)"
   ]
  },
  {
   "cell_type": "code",
   "execution_count": 11,
   "metadata": {},
   "outputs": [
    {
     "name": "stdout",
     "output_type": "stream",
     "text": [
      "country: Aruba, AW\n",
      "country: Afghanistan, AF\n",
      "country: Africa, A9\n",
      "country: Angola, AO\n",
      "country: Albania, AL\n",
      "country: Andorra, AD\n",
      "country: Andean Region, L5\n",
      "country: Arab World, 1A\n",
      "country: United Arab Emirates, AE\n",
      "country: Argentina, AR\n",
      "country: Armenia, AM\n",
      "country: American Samoa, AS\n",
      "country: Antigua and Barbuda, AG\n",
      "country: Australia, AU\n",
      "country: Austria, AT\n",
      "country: Azerbaijan, AZ\n",
      "country: Burundi, BI\n",
      "country: East Asia & Pacific (IBRD-only countries), B4\n",
      "country: Europe & Central Asia (IBRD-only countries), B7\n",
      "country: Belgium, BE\n",
      "country: Benin, BJ\n",
      "country: Burkina Faso, BF\n",
      "country: Bangladesh, BD\n",
      "country: Bulgaria, BG\n",
      "country: IBRD countries classified as high income, B1\n",
      "country: Bahrain, BH\n",
      "country: Bahamas, The, BS\n",
      "country: Bosnia and Herzegovina, BA\n",
      "country: Latin America & the Caribbean (IBRD-only countries), B2\n",
      "country: Belarus, BY\n",
      "country: Belize, BZ\n",
      "country: Middle East & North Africa (IBRD-only countries), B3\n",
      "country: Bermuda, BM\n",
      "country: Bolivia, BO\n",
      "country: Brazil, BR\n",
      "country: Barbados, BB\n",
      "country: Brunei Darussalam, BN\n",
      "country: Sub-Saharan Africa (IBRD-only countries), B6\n",
      "country: Bhutan, BT\n",
      "country: Botswana, BW\n",
      "country: Sub-Saharan Africa (IFC classification), C9\n",
      "country: Central African Republic, CF\n",
      "country: Canada, CA\n",
      "country: East Asia and the Pacific (IFC classification), C4\n",
      "country: Central Europe and the Baltics, B8\n",
      "country: Europe and Central Asia (IFC classification), C5\n",
      "country: Switzerland, CH\n",
      "country: Channel Islands, JG\n",
      "country: Chile, CL\n",
      "country: China, CN\n"
     ]
    }
   ],
   "source": [
    "namespaces = {'wb': 'http://www.worldbank.org'}\n",
    "\n",
    "for country in countries.findall('wb:country', namespaces):\n",
    "    name = country.find('wb:name', namespaces).text\n",
    "    code = country.find('wb:iso2Code', namespaces).text\n",
    "    \n",
    "    print('country: {}, {}'.format(name, code))\n",
    "    "
   ]
  },
  {
   "cell_type": "code",
   "execution_count": null,
   "metadata": {},
   "outputs": [],
   "source": []
  }
 ],
 "metadata": {
  "kernelspec": {
   "display_name": "Python 3",
   "language": "python",
   "name": "python3"
  },
  "language_info": {
   "codemirror_mode": {
    "name": "ipython",
    "version": 3
   },
   "file_extension": ".py",
   "mimetype": "text/x-python",
   "name": "python",
   "nbconvert_exporter": "python",
   "pygments_lexer": "ipython3",
   "version": "3.8.1"
  }
 },
 "nbformat": 4,
 "nbformat_minor": 4
}
